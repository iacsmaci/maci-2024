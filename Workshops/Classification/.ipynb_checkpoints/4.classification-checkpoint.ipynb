{
 "cells": [
  {
   "cell_type": "markdown",
   "id": "002f136b",
   "metadata": {},
   "source": [
    "# Classification\n",
    "### Workshop 4\n",
    "*Jun 30 - IACS-MACI Internship*"
   ]
  },
  {
   "cell_type": "markdown",
   "id": "3b989d82",
   "metadata": {},
   "source": [
    "- One-hot encoding\n",
    "- Balancing data\n",
    "- Weight the loss function\n",
    "- Logistic regression\n",
    "- F1 Score and Accuracy\n",
    "- Confusion Matrix"
   ]
  },
  {
   "cell_type": "markdown",
   "id": "10b7dc65",
   "metadata": {},
   "source": [
    "### Loading data"
   ]
  },
  {
   "cell_type": "markdown",
   "id": "d937fb3c",
   "metadata": {},
   "source": [
    "In this tutorial we will use [the credit card fraud detection dataset](https://www.kaggle.com/datasets/mlg-ulb/creditcardfraud). \n",
    "\n",
    "This dataset contains PCA features + the `time`, and the `amount` of several transactions.\n",
    "\n",
    "The goal is to predict the class $\\in \\{\\text{Normal}, \\text{Fraud}\\}$ "
   ]
  },
  {
   "cell_type": "code",
   "execution_count": 1,
   "id": "94502997",
   "metadata": {},
   "outputs": [],
   "source": [
    "import pandas as pd"
   ]
  },
  {
   "cell_type": "code",
   "execution_count": 2,
   "id": "e07285f5",
   "metadata": {},
   "outputs": [],
   "source": [
    "data = pd.read_csv('./data/credit_card.csv')"
   ]
  },
  {
   "cell_type": "code",
   "execution_count": 3,
   "id": "c9297467",
   "metadata": {},
   "outputs": [
    {
     "data": {
      "text/html": [
       "<div>\n",
       "<style scoped>\n",
       "    .dataframe tbody tr th:only-of-type {\n",
       "        vertical-align: middle;\n",
       "    }\n",
       "\n",
       "    .dataframe tbody tr th {\n",
       "        vertical-align: top;\n",
       "    }\n",
       "\n",
       "    .dataframe thead th {\n",
       "        text-align: right;\n",
       "    }\n",
       "</style>\n",
       "<table border=\"1\" class=\"dataframe\">\n",
       "  <thead>\n",
       "    <tr style=\"text-align: right;\">\n",
       "      <th></th>\n",
       "      <th>Time</th>\n",
       "      <th>f0</th>\n",
       "      <th>f1</th>\n",
       "      <th>f2</th>\n",
       "      <th>f3</th>\n",
       "      <th>f4</th>\n",
       "      <th>f5</th>\n",
       "      <th>f6</th>\n",
       "      <th>f7</th>\n",
       "      <th>f8</th>\n",
       "      <th>f9</th>\n",
       "      <th>Amount</th>\n",
       "      <th>Class</th>\n",
       "    </tr>\n",
       "  </thead>\n",
       "  <tbody>\n",
       "    <tr>\n",
       "      <th>984</th>\n",
       "      <td>129454.0</td>\n",
       "      <td>0.7582</td>\n",
       "      <td>-0.184624</td>\n",
       "      <td>0.007869</td>\n",
       "      <td>0.196471</td>\n",
       "      <td>0.163282</td>\n",
       "      <td>0.697288</td>\n",
       "      <td>0.014368</td>\n",
       "      <td>-0.264619</td>\n",
       "      <td>-0.010926</td>\n",
       "      <td>-0.047535</td>\n",
       "      <td>22.09</td>\n",
       "      <td>Safe</td>\n",
       "    </tr>\n",
       "  </tbody>\n",
       "</table>\n",
       "</div>"
      ],
      "text/plain": [
       "         Time      f0        f1        f2        f3        f4        f5  \\\n",
       "984  129454.0  0.7582 -0.184624  0.007869  0.196471  0.163282  0.697288   \n",
       "\n",
       "           f6        f7        f8        f9  Amount Class  \n",
       "984  0.014368 -0.264619 -0.010926 -0.047535   22.09  Safe  "
      ]
     },
     "execution_count": 3,
     "metadata": {},
     "output_type": "execute_result"
    }
   ],
   "source": [
    "data.sample()"
   ]
  },
  {
   "cell_type": "markdown",
   "id": "073b23df",
   "metadata": {},
   "source": [
    "### Selecting features and labels "
   ]
  },
  {
   "cell_type": "code",
   "execution_count": 4,
   "id": "819d42d2",
   "metadata": {},
   "outputs": [
    {
     "data": {
      "text/html": [
       "<div>\n",
       "<style scoped>\n",
       "    .dataframe tbody tr th:only-of-type {\n",
       "        vertical-align: middle;\n",
       "    }\n",
       "\n",
       "    .dataframe tbody tr th {\n",
       "        vertical-align: top;\n",
       "    }\n",
       "\n",
       "    .dataframe thead th {\n",
       "        text-align: right;\n",
       "    }\n",
       "</style>\n",
       "<table border=\"1\" class=\"dataframe\">\n",
       "  <thead>\n",
       "    <tr style=\"text-align: right;\">\n",
       "      <th></th>\n",
       "      <th>Time</th>\n",
       "      <th>f0</th>\n",
       "      <th>f1</th>\n",
       "      <th>f2</th>\n",
       "      <th>f3</th>\n",
       "      <th>f4</th>\n",
       "      <th>f5</th>\n",
       "      <th>f6</th>\n",
       "      <th>f7</th>\n",
       "      <th>f8</th>\n",
       "      <th>f9</th>\n",
       "      <th>Amount</th>\n",
       "    </tr>\n",
       "  </thead>\n",
       "  <tbody>\n",
       "    <tr>\n",
       "      <th>3205</th>\n",
       "      <td>157588.0</td>\n",
       "      <td>0.525258</td>\n",
       "      <td>-0.246418</td>\n",
       "      <td>-0.036745</td>\n",
       "      <td>-0.162243</td>\n",
       "      <td>-0.067311</td>\n",
       "      <td>-0.375366</td>\n",
       "      <td>-0.120754</td>\n",
       "      <td>-0.121853</td>\n",
       "      <td>0.103176</td>\n",
       "      <td>0.113735</td>\n",
       "      <td>58.25</td>\n",
       "    </tr>\n",
       "  </tbody>\n",
       "</table>\n",
       "</div>"
      ],
      "text/plain": [
       "          Time        f0        f1        f2        f3        f4        f5  \\\n",
       "3205  157588.0  0.525258 -0.246418 -0.036745 -0.162243 -0.067311 -0.375366   \n",
       "\n",
       "            f6        f7        f8        f9  Amount  \n",
       "3205 -0.120754 -0.121853  0.103176  0.113735   58.25  "
      ]
     },
     "execution_count": 4,
     "metadata": {},
     "output_type": "execute_result"
    }
   ],
   "source": [
    "X = data.iloc[:, :-1]\n",
    "X.sample() # we sample for visualizing features (or the model's input)"
   ]
  },
  {
   "cell_type": "code",
   "execution_count": 5,
   "id": "0e8412b5",
   "metadata": {},
   "outputs": [
    {
     "data": {
      "text/plain": [
       "array(['Fraud', 'Fraud', 'Fraud', ..., 'Safe', 'Safe', 'Safe'],\n",
       "      dtype=object)"
      ]
     },
     "execution_count": 5,
     "metadata": {},
     "output_type": "execute_result"
    }
   ],
   "source": [
    "y = data.iloc[:, -1].values\n",
    "y"
   ]
  },
  {
   "cell_type": "markdown",
   "id": "959bd049",
   "metadata": {},
   "source": [
    "### One-hot encoding (categorical vector)"
   ]
  },
  {
   "cell_type": "markdown",
   "id": "9380ffd3",
   "metadata": {},
   "source": [
    "Most of the algorithms need to transform **categorical** variables into **numbers**. Otherwise, the optimization method does not work. \n",
    "\n",
    "<img src=\"https://miro.medium.com/max/1400/1*ggtP4a5YaRx6l09KQaYOnw.png\">\n",
    "\n",
    "The **one-encoding** is a technique to codify categorical variables into binary indicators."
   ]
  },
  {
   "cell_type": "code",
   "execution_count": 6,
   "id": "f5698553",
   "metadata": {},
   "outputs": [],
   "source": [
    "from sklearn.preprocessing import OneHotEncoder"
   ]
  },
  {
   "cell_type": "code",
   "execution_count": 7,
   "id": "ed67decb",
   "metadata": {},
   "outputs": [
    {
     "data": {
      "text/plain": [
       "array([[1., 0.],\n",
       "       [1., 0.],\n",
       "       [1., 0.],\n",
       "       ...,\n",
       "       [0., 1.],\n",
       "       [0., 1.],\n",
       "       [0., 1.]])"
      ]
     },
     "execution_count": 7,
     "metadata": {},
     "output_type": "execute_result"
    }
   ],
   "source": [
    "enc = OneHotEncoder()\n",
    "enc.fit(y[:,None])\n",
    "\n",
    "y_categorical = enc.transform(y[:,None])\n",
    "y_categorical = y_categorical.toarray()\n",
    "y_categorical"
   ]
  },
  {
   "cell_type": "markdown",
   "id": "950b431c",
   "metadata": {},
   "source": [
    "### Training and testing subsets"
   ]
  },
  {
   "cell_type": "code",
   "execution_count": 9,
   "id": "40f8c134",
   "metadata": {},
   "outputs": [],
   "source": [
    "from sklearn.model_selection import train_test_split"
   ]
  },
  {
   "cell_type": "code",
   "execution_count": 11,
   "id": "1bed4859",
   "metadata": {},
   "outputs": [
    {
     "data": {
      "text/plain": [
       "(4746, 12)"
      ]
     },
     "execution_count": 11,
     "metadata": {},
     "output_type": "execute_result"
    }
   ],
   "source": [
    "X_train, X_test, \\\n",
    "y_one_hot_train, \\\n",
    "y_one_hot_test = train_test_split(X, \n",
    "                                  y_categorical, \n",
    "                                  test_size=0.5, \n",
    "                                  random_state=42) \n",
    "X_train.shape"
   ]
  },
  {
   "cell_type": "markdown",
   "id": "1a053c3c",
   "metadata": {},
   "source": [
    "`random_state` used for initializing the internal random number generator"
   ]
  },
  {
   "cell_type": "markdown",
   "id": "fe5f46b8",
   "metadata": {},
   "source": [
    "### Using [logistic regression (sklearn)](https://scikit-learn.org/stable/modules/generated/sklearn.linear_model.LogisticRegression.html#sklearn-linear-model-logisticregression)"
   ]
  },
  {
   "cell_type": "code",
   "execution_count": 12,
   "id": "780fa6af",
   "metadata": {},
   "outputs": [],
   "source": [
    "from sklearn.linear_model import LogisticRegression"
   ]
  },
  {
   "cell_type": "markdown",
   "id": "9f9a0bda",
   "metadata": {},
   "source": [
    "Labels must be a **1d array** when using `LogisticRegression`. Then, we can use [`np.argmax()`](https://numpy.org/doc/stable/reference/generated/numpy.argmax.html) to transform the `one-hot encoding`$\\in \\mathbb{Z}^C, C>1$ in a single dimension array."
   ]
  },
  {
   "cell_type": "code",
   "execution_count": 14,
   "id": "916680e3",
   "metadata": {},
   "outputs": [
    {
     "data": {
      "text/plain": [
       "((4746, 2), (4746,))"
      ]
     },
     "execution_count": 14,
     "metadata": {},
     "output_type": "execute_result"
    }
   ],
   "source": [
    "import numpy as np\n",
    "\n",
    "y_train = np.argmax(y_one_hot_train, axis=1)\n",
    "y_test  = np.argmax(y_one_hot_test, axis=1)\n",
    "\n",
    "y_one_hot_train.shape, y_train.shape"
   ]
  },
  {
   "cell_type": "markdown",
   "id": "64e16b09",
   "metadata": {},
   "source": [
    "In the function above, we took the index associated to the maximum value in the `axis=1`"
   ]
  },
  {
   "cell_type": "markdown",
   "id": "1da0399c",
   "metadata": {},
   "source": [
    "#### Model "
   ]
  },
  {
   "cell_type": "code",
   "execution_count": 17,
   "id": "c54014a1",
   "metadata": {},
   "outputs": [
    {
     "data": {
      "text/html": [
       "<style>#sk-container-id-2 {color: black;background-color: white;}#sk-container-id-2 pre{padding: 0;}#sk-container-id-2 div.sk-toggleable {background-color: white;}#sk-container-id-2 label.sk-toggleable__label {cursor: pointer;display: block;width: 100%;margin-bottom: 0;padding: 0.3em;box-sizing: border-box;text-align: center;}#sk-container-id-2 label.sk-toggleable__label-arrow:before {content: \"▸\";float: left;margin-right: 0.25em;color: #696969;}#sk-container-id-2 label.sk-toggleable__label-arrow:hover:before {color: black;}#sk-container-id-2 div.sk-estimator:hover label.sk-toggleable__label-arrow:before {color: black;}#sk-container-id-2 div.sk-toggleable__content {max-height: 0;max-width: 0;overflow: hidden;text-align: left;background-color: #f0f8ff;}#sk-container-id-2 div.sk-toggleable__content pre {margin: 0.2em;color: black;border-radius: 0.25em;background-color: #f0f8ff;}#sk-container-id-2 input.sk-toggleable__control:checked~div.sk-toggleable__content {max-height: 200px;max-width: 100%;overflow: auto;}#sk-container-id-2 input.sk-toggleable__control:checked~label.sk-toggleable__label-arrow:before {content: \"▾\";}#sk-container-id-2 div.sk-estimator input.sk-toggleable__control:checked~label.sk-toggleable__label {background-color: #d4ebff;}#sk-container-id-2 div.sk-label input.sk-toggleable__control:checked~label.sk-toggleable__label {background-color: #d4ebff;}#sk-container-id-2 input.sk-hidden--visually {border: 0;clip: rect(1px 1px 1px 1px);clip: rect(1px, 1px, 1px, 1px);height: 1px;margin: -1px;overflow: hidden;padding: 0;position: absolute;width: 1px;}#sk-container-id-2 div.sk-estimator {font-family: monospace;background-color: #f0f8ff;border: 1px dotted black;border-radius: 0.25em;box-sizing: border-box;margin-bottom: 0.5em;}#sk-container-id-2 div.sk-estimator:hover {background-color: #d4ebff;}#sk-container-id-2 div.sk-parallel-item::after {content: \"\";width: 100%;border-bottom: 1px solid gray;flex-grow: 1;}#sk-container-id-2 div.sk-label:hover label.sk-toggleable__label {background-color: #d4ebff;}#sk-container-id-2 div.sk-serial::before {content: \"\";position: absolute;border-left: 1px solid gray;box-sizing: border-box;top: 0;bottom: 0;left: 50%;z-index: 0;}#sk-container-id-2 div.sk-serial {display: flex;flex-direction: column;align-items: center;background-color: white;padding-right: 0.2em;padding-left: 0.2em;position: relative;}#sk-container-id-2 div.sk-item {position: relative;z-index: 1;}#sk-container-id-2 div.sk-parallel {display: flex;align-items: stretch;justify-content: center;background-color: white;position: relative;}#sk-container-id-2 div.sk-item::before, #sk-container-id-2 div.sk-parallel-item::before {content: \"\";position: absolute;border-left: 1px solid gray;box-sizing: border-box;top: 0;bottom: 0;left: 50%;z-index: -1;}#sk-container-id-2 div.sk-parallel-item {display: flex;flex-direction: column;z-index: 1;position: relative;background-color: white;}#sk-container-id-2 div.sk-parallel-item:first-child::after {align-self: flex-end;width: 50%;}#sk-container-id-2 div.sk-parallel-item:last-child::after {align-self: flex-start;width: 50%;}#sk-container-id-2 div.sk-parallel-item:only-child::after {width: 0;}#sk-container-id-2 div.sk-dashed-wrapped {border: 1px dashed gray;margin: 0 0.4em 0.5em 0.4em;box-sizing: border-box;padding-bottom: 0.4em;background-color: white;}#sk-container-id-2 div.sk-label label {font-family: monospace;font-weight: bold;display: inline-block;line-height: 1.2em;}#sk-container-id-2 div.sk-label-container {text-align: center;}#sk-container-id-2 div.sk-container {/* jupyter's `normalize.less` sets `[hidden] { display: none; }` but bootstrap.min.css set `[hidden] { display: none !important; }` so we also need the `!important` here to be able to override the default hidden behavior on the sphinx rendered scikit-learn.org. See: https://github.com/scikit-learn/scikit-learn/issues/21755 */display: inline-block !important;position: relative;}#sk-container-id-2 div.sk-text-repr-fallback {display: none;}</style><div id=\"sk-container-id-2\" class=\"sk-top-container\"><div class=\"sk-text-repr-fallback\"><pre>LogisticRegression()</pre><b>In a Jupyter environment, please rerun this cell to show the HTML representation or trust the notebook. <br />On GitHub, the HTML representation is unable to render, please try loading this page with nbviewer.org.</b></div><div class=\"sk-container\" hidden><div class=\"sk-item\"><div class=\"sk-estimator sk-toggleable\"><input class=\"sk-toggleable__control sk-hidden--visually\" id=\"sk-estimator-id-2\" type=\"checkbox\" checked><label for=\"sk-estimator-id-2\" class=\"sk-toggleable__label sk-toggleable__label-arrow\">LogisticRegression</label><div class=\"sk-toggleable__content\"><pre>LogisticRegression()</pre></div></div></div></div></div>"
      ],
      "text/plain": [
       "LogisticRegression()"
      ]
     },
     "execution_count": 17,
     "metadata": {},
     "output_type": "execute_result"
    }
   ],
   "source": [
    "model  = LogisticRegression()\n",
    "model.fit(X_train, y_train)"
   ]
  },
  {
   "cell_type": "code",
   "execution_count": 18,
   "id": "cfaefba5",
   "metadata": {},
   "outputs": [
    {
     "data": {
      "text/plain": [
       "array([1, 1, 1, ..., 1, 1, 1])"
      ]
     },
     "execution_count": 18,
     "metadata": {},
     "output_type": "execute_result"
    }
   ],
   "source": [
    "y_pred = model.predict(X_test)\n",
    "y_pred"
   ]
  },
  {
   "cell_type": "markdown",
   "id": "106ce8ac",
   "metadata": {},
   "source": [
    "The `LogisticRegression` class also provides a method to get the probabilities for each class"
   ]
  },
  {
   "cell_type": "code",
   "execution_count": 19,
   "id": "69cb2b92",
   "metadata": {},
   "outputs": [],
   "source": [
    "y_pred_probs = model.predict_proba(X_test)"
   ]
  },
  {
   "cell_type": "code",
   "execution_count": 22,
   "id": "fe6d75ab",
   "metadata": {},
   "outputs": [
    {
     "data": {
      "image/png": "[encoded data removed]",
      "text/plain": [
       "<Figure size 504x288 with 1 Axes>"
      ]
     },
     "metadata": {
      "needs_background": "light"
     },
     "output_type": "display_data"
    }
   ],
   "source": [
    "import matplotlib.pyplot as plt\n",
    "plt.figure(figsize=(7,4))\n",
    "plt.hist(y_pred_probs[:, 0], bins=50, label='Normal', alpha=0.8)\n",
    "plt.hist(y_pred_probs[:, 1], bins=50, label='Fraud', alpha=0.8)\n",
    "plt.ylabel('Counts')\n",
    "plt.xlabel('Probability')\n",
    "plt.yscale('log')\n",
    "plt.legend()\n",
    "plt.show()"
   ]
  },
  {
   "cell_type": "markdown",
   "id": "67276e46",
   "metadata": {},
   "source": [
    "### Evaluate your model"
   ]
  },
  {
   "cell_type": "code",
   "execution_count": 23,
   "id": "c5389124",
   "metadata": {},
   "outputs": [],
   "source": [
    "from sklearn.metrics import accuracy_score, f1_score"
   ]
  },
  {
   "cell_type": "code",
   "execution_count": 24,
   "id": "e8a31e93",
   "metadata": {},
   "outputs": [
    {
     "data": {
      "text/plain": [
       "'Accuracy: 0.94 \\n F1 Score: 0.49'"
      ]
     },
     "execution_count": 24,
     "metadata": {},
     "output_type": "execute_result"
    }
   ],
   "source": [
    "acc_value = accuracy_score(y_test, y_pred)\n",
    "f1_value = f1_score(y_test, y_pred, average='macro')\n",
    "\n",
    "'Accuracy: {:.2f} \\n F1 Score: {:.2f}'.format(acc_value, f1_value)"
   ]
  },
  {
   "cell_type": "markdown",
   "id": "57a33b75",
   "metadata": {},
   "source": [
    "### Balancing data"
   ]
  },
  {
   "cell_type": "markdown",
   "id": "083686ae",
   "metadata": {},
   "source": [
    "[**Imbalanced-learn**](https://imbalanced-learn.org/stable/install.html#from-pypi-or-conda-forge-repositories) is an extension to the scikit-learn package that has **adapted models** and **algorithms for working with imbalanced data**.\n",
    "\n",
    "In this case, we will use the [`RandomOverSampler`](https://imbalanced-learn.org/stable/over_sampling.html) class that sample elements with replacement."
   ]
  },
  {
   "cell_type": "code",
   "execution_count": 26,
   "id": "2479e681",
   "metadata": {},
   "outputs": [],
   "source": [
    "from imblearn.over_sampling import RandomOverSampler"
   ]
  },
  {
   "cell_type": "code",
   "execution_count": 27,
   "id": "cf7f1d79",
   "metadata": {},
   "outputs": [],
   "source": [
    "ros = RandomOverSampler(random_state=0)\n",
    "X_resampled, y_resampled = ros.fit_resample(X_train, y_train)"
   ]
  },
  {
   "cell_type": "code",
   "execution_count": 28,
   "id": "6ff3e405",
   "metadata": {},
   "outputs": [],
   "source": [
    "uniques, counts = np.unique(y_resampled, return_counts=True)"
   ]
  },
  {
   "cell_type": "code",
   "execution_count": 29,
   "id": "1e349e5c",
   "metadata": {},
   "outputs": [
    {
     "data": {
      "image/png": "[encoded data removed]",
      "text/plain": [
       "<Figure size 432x288 with 1 Axes>"
      ]
     },
     "metadata": {
      "needs_background": "light"
     },
     "output_type": "display_data"
    }
   ],
   "source": [
    "plt.figure()\n",
    "\n",
    "x_plot = range(len(uniques))\n",
    "plt.bar(x_plot, counts)\n",
    "plt.xticks(x_plot, ['Normal', 'Fraud'])\n",
    "plt.ylabel('counts')\n",
    "\n",
    "for x, c in enumerate(counts):\n",
    "    plt.text(x-0.05, c+100, '{:.0f}'.format(c))\n",
    "\n",
    "plt.ylim(0, 5000)\n",
    "plt.show()"
   ]
  },
  {
   "cell_type": "markdown",
   "id": "ae0f1f2d",
   "metadata": {},
   "source": [
    "### Training the model again"
   ]
  },
  {
   "cell_type": "code",
   "execution_count": 31,
   "id": "b1b81e52",
   "metadata": {},
   "outputs": [
    {
     "data": {
      "text/html": [
       "<style>#sk-container-id-4 {color: black;background-color: white;}#sk-container-id-4 pre{padding: 0;}#sk-container-id-4 div.sk-toggleable {background-color: white;}#sk-container-id-4 label.sk-toggleable__label {cursor: pointer;display: block;width: 100%;margin-bottom: 0;padding: 0.3em;box-sizing: border-box;text-align: center;}#sk-container-id-4 label.sk-toggleable__label-arrow:before {content: \"▸\";float: left;margin-right: 0.25em;color: #696969;}#sk-container-id-4 label.sk-toggleable__label-arrow:hover:before {color: black;}#sk-container-id-4 div.sk-estimator:hover label.sk-toggleable__label-arrow:before {color: black;}#sk-container-id-4 div.sk-toggleable__content {max-height: 0;max-width: 0;overflow: hidden;text-align: left;background-color: #f0f8ff;}#sk-container-id-4 div.sk-toggleable__content pre {margin: 0.2em;color: black;border-radius: 0.25em;background-color: #f0f8ff;}#sk-container-id-4 input.sk-toggleable__control:checked~div.sk-toggleable__content {max-height: 200px;max-width: 100%;overflow: auto;}#sk-container-id-4 input.sk-toggleable__control:checked~label.sk-toggleable__label-arrow:before {content: \"▾\";}#sk-container-id-4 div.sk-estimator input.sk-toggleable__control:checked~label.sk-toggleable__label {background-color: #d4ebff;}#sk-container-id-4 div.sk-label input.sk-toggleable__control:checked~label.sk-toggleable__label {background-color: #d4ebff;}#sk-container-id-4 input.sk-hidden--visually {border: 0;clip: rect(1px 1px 1px 1px);clip: rect(1px, 1px, 1px, 1px);height: 1px;margin: -1px;overflow: hidden;padding: 0;position: absolute;width: 1px;}#sk-container-id-4 div.sk-estimator {font-family: monospace;background-color: #f0f8ff;border: 1px dotted black;border-radius: 0.25em;box-sizing: border-box;margin-bottom: 0.5em;}#sk-container-id-4 div.sk-estimator:hover {background-color: #d4ebff;}#sk-container-id-4 div.sk-parallel-item::after {content: \"\";width: 100%;border-bottom: 1px solid gray;flex-grow: 1;}#sk-container-id-4 div.sk-label:hover label.sk-toggleable__label {background-color: #d4ebff;}#sk-container-id-4 div.sk-serial::before {content: \"\";position: absolute;border-left: 1px solid gray;box-sizing: border-box;top: 0;bottom: 0;left: 50%;z-index: 0;}#sk-container-id-4 div.sk-serial {display: flex;flex-direction: column;align-items: center;background-color: white;padding-right: 0.2em;padding-left: 0.2em;position: relative;}#sk-container-id-4 div.sk-item {position: relative;z-index: 1;}#sk-container-id-4 div.sk-parallel {display: flex;align-items: stretch;justify-content: center;background-color: white;position: relative;}#sk-container-id-4 div.sk-item::before, #sk-container-id-4 div.sk-parallel-item::before {content: \"\";position: absolute;border-left: 1px solid gray;box-sizing: border-box;top: 0;bottom: 0;left: 50%;z-index: -1;}#sk-container-id-4 div.sk-parallel-item {display: flex;flex-direction: column;z-index: 1;position: relative;background-color: white;}#sk-container-id-4 div.sk-parallel-item:first-child::after {align-self: flex-end;width: 50%;}#sk-container-id-4 div.sk-parallel-item:last-child::after {align-self: flex-start;width: 50%;}#sk-container-id-4 div.sk-parallel-item:only-child::after {width: 0;}#sk-container-id-4 div.sk-dashed-wrapped {border: 1px dashed gray;margin: 0 0.4em 0.5em 0.4em;box-sizing: border-box;padding-bottom: 0.4em;background-color: white;}#sk-container-id-4 div.sk-label label {font-family: monospace;font-weight: bold;display: inline-block;line-height: 1.2em;}#sk-container-id-4 div.sk-label-container {text-align: center;}#sk-container-id-4 div.sk-container {/* jupyter's `normalize.less` sets `[hidden] { display: none; }` but bootstrap.min.css set `[hidden] { display: none !important; }` so we also need the `!important` here to be able to override the default hidden behavior on the sphinx rendered scikit-learn.org. See: https://github.com/scikit-learn/scikit-learn/issues/21755 */display: inline-block !important;position: relative;}#sk-container-id-4 div.sk-text-repr-fallback {display: none;}</style><div id=\"sk-container-id-4\" class=\"sk-top-container\"><div class=\"sk-text-repr-fallback\"><pre>LogisticRegression()</pre><b>In a Jupyter environment, please rerun this cell to show the HTML representation or trust the notebook. <br />On GitHub, the HTML representation is unable to render, please try loading this page with nbviewer.org.</b></div><div class=\"sk-container\" hidden><div class=\"sk-item\"><div class=\"sk-estimator sk-toggleable\"><input class=\"sk-toggleable__control sk-hidden--visually\" id=\"sk-estimator-id-4\" type=\"checkbox\" checked><label for=\"sk-estimator-id-4\" class=\"sk-toggleable__label sk-toggleable__label-arrow\">LogisticRegression</label><div class=\"sk-toggleable__content\"><pre>LogisticRegression()</pre></div></div></div></div></div>"
      ],
      "text/plain": [
       "LogisticRegression()"
      ]
     },
     "execution_count": 31,
     "metadata": {},
     "output_type": "execute_result"
    }
   ],
   "source": [
    "model  = LogisticRegression()\n",
    "model.fit(X_resampled, y_resampled)"
   ]
  },
  {
   "cell_type": "code",
   "execution_count": 32,
   "id": "4bef0d5e",
   "metadata": {},
   "outputs": [],
   "source": [
    "y_pred_resampled = model.predict(X_test)"
   ]
  },
  {
   "cell_type": "code",
   "execution_count": 33,
   "id": "cf940587",
   "metadata": {},
   "outputs": [
    {
     "data": {
      "text/plain": [
       "'Accuracy: 0.83 \\n F1 Score: 0.52'"
      ]
     },
     "execution_count": 33,
     "metadata": {},
     "output_type": "execute_result"
    }
   ],
   "source": [
    "acc_value = accuracy_score(y_test, y_pred_resampled)\n",
    "f1_value = f1_score(y_test, y_pred_resampled, average='macro')\n",
    "\n",
    "'Accuracy: {:.2f} \\n F1 Score: {:.2f}'.format(acc_value, f1_value)"
   ]
  },
  {
   "cell_type": "code",
   "execution_count": 41,
   "id": "3a8b2e62",
   "metadata": {},
   "outputs": [
    {
     "data": {
      "text/plain": [
       "array([[0.24045802, 0.75954198],\n",
       "       [0.13135593, 0.86864407]])"
      ]
     },
     "execution_count": 41,
     "metadata": {},
     "output_type": "execute_result"
    }
   ],
   "source": [
    "from sklearn.metrics import confusion_matrix\n",
    "\n",
    "cm = confusion_matrix(y_test, y_pred_resampled, normalize='true')\n",
    "cm"
   ]
  },
  {
   "cell_type": "code",
   "execution_count": 42,
   "id": "a498744e",
   "metadata": {},
   "outputs": [],
   "source": [
    "import seaborn as sns\n",
    "def plot_cm(cm, ax, title='CM', fontsize=15, cbar=False, yticklabels=True, class_names=None):\n",
    "    '''\n",
    "    Plot Confusion Matrix\n",
    "    '''\n",
    "    labels = np.zeros_like(cm, dtype=np.object)\n",
    "    mask = np.ones_like(cm, dtype=np.bool)\n",
    "    for (row, col), value in np.ndenumerate(cm):\n",
    "        if value != 0.0:\n",
    "            mask[row][col] = False\n",
    "        if value < 0.01:\n",
    "            labels[row][col] = '< 1%'\n",
    "        else:\n",
    "            labels[row][col] = '{:2.1f}%'.format(value*100)\n",
    "\n",
    "    ax = sns.heatmap(cm, annot = labels, fmt = '',\n",
    "                     annot_kws={\"size\": fontsize},\n",
    "                     cbar=cbar,\n",
    "                     ax=ax,\n",
    "                     linecolor='white',\n",
    "                     linewidths=1,\n",
    "                     vmin=0, vmax=1,\n",
    "                     cmap='Blues',\n",
    "                     mask=mask,\n",
    "                     yticklabels=yticklabels)\n",
    "\n",
    "    try:\n",
    "        if yticklabels and class_names is not None:\n",
    "            ax.set_yticklabels(class_names, rotation=0, fontsize=fontsize+1)\n",
    "            ax.set_xticklabels(class_names, rotation=90, fontsize=fontsize+1)\n",
    "    except:\n",
    "        pass\n",
    "    ax.set_title(title, fontsize=fontsize+5)\n",
    "\n",
    "    ax.axhline(y=0, color='k',linewidth=4)\n",
    "    ax.axhline(y=cm.shape[1], color='k',linewidth=4)\n",
    "    ax.axvline(x=0, color='k',linewidth=4)\n",
    "    ax.axvline(x=cm.shape[0], color='k',linewidth=4)\n",
    "\n",
    "    return ax"
   ]
  },
  {
   "cell_type": "code",
   "execution_count": 43,
   "id": "bebfebf0",
   "metadata": {},
   "outputs": [
    {
     "name": "stderr",
     "output_type": "stream",
     "text": [
      "/tmp/ipykernel_15204/2776334440.py:6: DeprecationWarning: `np.object` is a deprecated alias for the builtin `object`. To silence this warning, use `object` by itself. Doing this will not modify any behavior and is safe. \n",
      "Deprecated in NumPy 1.20; for more details and guidance: https://numpy.org/devdocs/release/1.20.0-notes.html#deprecations\n",
      "  labels = np.zeros_like(cm, dtype=np.object)\n",
      "/tmp/ipykernel_15204/2776334440.py:7: DeprecationWarning: `np.bool` is a deprecated alias for the builtin `bool`. To silence this warning, use `bool` by itself. Doing this will not modify any behavior and is safe. If you specifically wanted the numpy scalar type, use `np.bool_` here.\n",
      "Deprecated in NumPy 1.20; for more details and guidance: https://numpy.org/devdocs/release/1.20.0-notes.html#deprecations\n",
      "  mask = np.ones_like(cm, dtype=np.bool)\n"
     ]
    },
    {
     "data": {
      "text/plain": [
       "<AxesSubplot:title={'center':'CM'}>"
      ]
     },
     "execution_count": 43,
     "metadata": {},
     "output_type": "execute_result"
    },
    {
     "data": {
      "image/png": "[encoded data removed]",
      "text/plain": [
       "<Figure size 432x288 with 1 Axes>"
      ]
     },
     "metadata": {
      "needs_background": "light"
     },
     "output_type": "display_data"
    }
   ],
   "source": [
    "fig, ax = plt.subplots()\n",
    "\n",
    "plot_cm(cm, ax)"
   ]
  },
  {
   "cell_type": "code",
   "execution_count": null,
   "id": "be1f3f9b",
   "metadata": {},
   "outputs": [],
   "source": []
  }
 ],
 "metadata": {
  "kernelspec": {
   "display_name": "Python 3 (ipykernel)",
   "language": "python",
   "name": "python3"
  },
  "language_info": {
   "codemirror_mode": {
    "name": "ipython",
    "version": 3
   },
   "file_extension": ".py",
   "mimetype": "text/x-python",
   "name": "python",
   "nbconvert_exporter": "python",
   "pygments_lexer": "ipython3",
   "version": "3.9.7"
  }
 },
 "nbformat": 4,
 "nbformat_minor": 5
}
